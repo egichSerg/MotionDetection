{
 "cells": [
  {
   "cell_type": "code",
   "execution_count": 3,
   "id": "a81abc5d-b299-454b-b3ce-a07fa5db8ea8",
   "metadata": {
    "tags": []
   },
   "outputs": [],
   "source": [
    "import torch\n",
    "import torch.nn as nn\n",
    "\n",
    "from torchvision.models import mobilenet_v3_small as mnet\n",
    "from torchvision.models import MobileNet_V3_Small_Weights as mweights"
   ]
  },
  {
   "cell_type": "code",
   "execution_count": 6,
   "id": "a959ed2a-818c-4cde-9b42-8ebceaba45f5",
   "metadata": {
    "tags": []
   },
   "outputs": [],
   "source": [
    "device = torch.device(\"cuda:0\" if torch.cuda.is_available() else \"cpu\")"
   ]
  },
  {
   "cell_type": "code",
   "execution_count": null,
   "id": "c3b54be5-6924-4138-8743-af69e05310f6",
   "metadata": {},
   "outputs": [],
   "source": []
  }
 ],
 "metadata": {
  "kernelspec": {
   "display_name": "Python 3 (ipykernel)",
   "language": "python",
   "name": "python3"
  },
  "language_info": {
   "codemirror_mode": {
    "name": "ipython",
    "version": 3
   },
   "file_extension": ".py",
   "mimetype": "text/x-python",
   "name": "python",
   "nbconvert_exporter": "python",
   "pygments_lexer": "ipython3",
   "version": "3.11.5"
  }
 },
 "nbformat": 4,
 "nbformat_minor": 5
}
